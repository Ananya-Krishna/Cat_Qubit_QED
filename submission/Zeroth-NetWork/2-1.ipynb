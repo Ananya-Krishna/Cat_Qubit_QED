{
 "cells": [
  {
   "cell_type": "code",
   "execution_count": null,
   "metadata": {},
   "outputs": [],
   "source": [
    "import dynamiqs as dq\n",
    "import scipy as sp\n",
    "import jax\n",
    "import jax.numpy as jnp # the JAX version of numpy\n",
    "from matplotlib import pyplot as plt"
   ]
  },
  {
   "cell_type": "code",
   "execution_count": null,
   "metadata": {},
   "outputs": [],
   "source": [
    "jax.devices()\n",
    "dq.set_device('cpu')\n",
    "\n",
    "dq.set_precision('simple')"
   ]
  },
  {
   "cell_type": "code",
   "execution_count": 3,
   "metadata": {},
   "outputs": [
    {
     "ename": "SyntaxError",
     "evalue": "invalid character '−' (U+2212) (3554055583.py, line 31)",
     "output_type": "error",
     "traceback": [
      "\u001b[1;36m  Cell \u001b[1;32mIn[3], line 31\u001b[1;36m\u001b[0m\n\u001b[1;33m    −\u001b[0m\n\u001b[1;37m    ^\u001b[0m\n\u001b[1;31mSyntaxError\u001b[0m\u001b[1;31m:\u001b[0m invalid character '−' (U+2212)\n"
     ]
    }
   ],
   "source": [
    "na = 20\n",
    "nb = 5\n",
    "ω_a0 = 2*jnp.pi*5.26e9\n",
    "ω_b0 = 2*jnp.pi*7.70e9\n",
    " \n",
    "φ_a = 0.06\n",
    "φ_b = 0.29\n",
    "\n",
    "E_J = 42.76e9* sp.h\n",
    " \n",
    "ΔE_J = 0.47e9 * sp.h\n",
    "\n",
    "\n",
    "ω_d = 2*jnp.pi*7.623e9\n",
    "ω_p = 2*jnp.pi*2.891e9\n",
    " \n",
    "ϵ_d = -2*jnp.pi*3.815e6\n",
    "ϵ_p = 0.122\n",
    "\n",
    "a,b = dq.destroy(na,nb)\n",
    "\n",
    "H_0 = ω_a0* dq.dag(a)@a + ω_b0* dq.dag(b)@b \n",
    "\n",
    "H_ATS = -2* E_J*(jnp.sin(ϵ_p)*sin(φ_a))"
   ]
  },
  {
   "cell_type": "code",
   "execution_count": null,
   "metadata": {},
   "outputs": [],
   "source": []
  }
 ],
 "metadata": {
  "kernelspec": {
   "display_name": "Python 3",
   "language": "python",
   "name": "python3"
  },
  "language_info": {
   "codemirror_mode": {
    "name": "ipython",
    "version": 3
   },
   "file_extension": ".py",
   "mimetype": "text/x-python",
   "name": "python",
   "nbconvert_exporter": "python",
   "pygments_lexer": "ipython3",
   "version": "3.11.9"
  }
 },
 "nbformat": 4,
 "nbformat_minor": 2
}
