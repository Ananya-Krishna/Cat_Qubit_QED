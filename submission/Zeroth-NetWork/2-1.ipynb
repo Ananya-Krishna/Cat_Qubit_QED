{
 "cells": [
  {
   "cell_type": "code",
   "execution_count": 17,
   "metadata": {},
   "outputs": [],
   "source": [
    "import dynamiqs as dq\n",
    "import scipy as sp\n",
    "import jax\n",
    "import jax.numpy as jnp # the JAX version of numpy\n",
    "from matplotlib import pyplot as plt\n",
    "import scipy.constants\n",
    "\n",
    "import qbraid\n",
    "\n",
    "\n"
   ]
  },
  {
   "cell_type": "code",
   "execution_count": 9,
   "metadata": {},
   "outputs": [],
   "source": [
    "jax.devices()\n",
    "dq.set_device('cpu')\n",
    "\n",
    "dq.set_precision('simple')"
   ]
  },
  {
   "cell_type": "code",
   "execution_count": 1,
   "metadata": {},
   "outputs": [
    {
     "ename": "NameError",
     "evalue": "name 'jnp' is not defined",
     "output_type": "error",
     "traceback": [
      "\u001b[1;31m---------------------------------------------------------------------------\u001b[0m",
      "\u001b[1;31mNameError\u001b[0m                                 Traceback (most recent call last)",
      "Cell \u001b[1;32mIn[1], line 3\u001b[0m\n\u001b[0;32m      1\u001b[0m na \u001b[38;5;241m=\u001b[39m \u001b[38;5;241m20\u001b[39m\n\u001b[0;32m      2\u001b[0m nb \u001b[38;5;241m=\u001b[39m \u001b[38;5;241m5\u001b[39m\n\u001b[1;32m----> 3\u001b[0m ω_a0 \u001b[38;5;241m=\u001b[39m \u001b[38;5;241m2\u001b[39m\u001b[38;5;241m*\u001b[39m\u001b[43mjnp\u001b[49m\u001b[38;5;241m.\u001b[39mpi\u001b[38;5;241m*\u001b[39m\u001b[38;5;241m5.26\u001b[39m\n\u001b[0;32m      4\u001b[0m ω_b0 \u001b[38;5;241m=\u001b[39m \u001b[38;5;241m2\u001b[39m\u001b[38;5;241m*\u001b[39mjnp\u001b[38;5;241m.\u001b[39mpi\u001b[38;5;241m*\u001b[39m\u001b[38;5;241m7.70\u001b[39m\n\u001b[0;32m      6\u001b[0m φ_a \u001b[38;5;241m=\u001b[39m \u001b[38;5;241m0.06\u001b[39m\n",
      "\u001b[1;31mNameError\u001b[0m: name 'jnp' is not defined"
     ]
    }
   ],
   "source": [
    "na = 20\n",
    "nb = 5\n",
    "ω_a0 = 2*jnp.pi*5.26\n",
    "ω_b0 = 2*jnp.pi*7.70\n",
    " \n",
    "φ_a = 0.06\n",
    "φ_b = 0.29\n",
    "\n",
    "h = 6\n",
    "\n",
    "Kb = 10\n",
    "E_J = 42.76e3* h\n",
    " \n",
    "ΔE_J = 0.47e3 * h\n",
    "T = 20\n",
    "\n",
    "t_save = jnp.linspace(0, T, 50)  # save times\n",
    "\n",
    "ω_d = 2*jnp.pi*7.623\n",
    "ω_p = 2*jnp.pi*2.891\n",
    " \n",
    "ϵ_d = -2*jnp.pi*3.815 #This is MHz but rest is GHz \n",
    "ϵ_p = 0.122\n",
    "a,b = dq.destroy(na,nb)\n",
    "\n",
    "phi_hat = φ_a * (a + dq.dag(a)) + φ_b * (b + dq.dag(b))\n",
    "H_0 = ω_a0* dq.dag(a) @ a + ω_b0* dq.dag(b) @ b \n",
    "\n",
    "H_ATS = dq.modulated(lambda t: -2* E_J*(jnp.sin(ϵ_p * jnp.cos(ω_d * t))), dq.sinm(phi_hat)) + dq.modulated(lambda t : 2 * ΔE_J * jnp.cos(ϵ_p * jnp.cos(ω_d * t)), dq.cosm(phi_hat))\n",
    "\n",
    "H_d = dq.modulated(lambda t: 2 * ϵ_d * jnp.cos(ω_d * t), (b + dq.dag(b)))\n",
    "\n",
    "H = H_0 + H_ATS + H_d "
   ]
  },
  {
   "cell_type": "code",
   "execution_count": null,
   "metadata": {},
   "outputs": [
    {
     "name": "stderr",
     "output_type": "stream",
     "text": [
      "|          |   0.7% ◆ elapsed 01m06s ◆ remaining 04h41m46s"
     ]
    }
   ],
   "source": [
    "psi0 = dq.fock((na,nb), (0,0))  # coherent state\n",
    "\n",
    "res = dq.mesolve(H, [jnp.sqrt(Kb)*b], psi0, t_save)\n",
    "\n",
    "trace_a = dq.ptrace(res.states, 0,res.states.dims) # trace of a\n",
    "\n",
    "dq.plot.wigner_gif(trace_a, fps=120)"
   ]
  },
  {
   "cell_type": "code",
   "execution_count": null,
   "metadata": {},
   "outputs": [],
   "source": []
  }
 ],
 "metadata": {
  "kernelspec": {
   "display_name": "Python 3",
   "language": "python",
   "name": "python3"
  },
  "language_info": {
   "codemirror_mode": {
    "name": "ipython",
    "version": 3
   },
   "file_extension": ".py",
   "mimetype": "text/x-python",
   "name": "python",
   "nbconvert_exporter": "python",
   "pygments_lexer": "ipython3",
   "version": "3.13.1"
  }
 },
 "nbformat": 4,
 "nbformat_minor": 2
}
