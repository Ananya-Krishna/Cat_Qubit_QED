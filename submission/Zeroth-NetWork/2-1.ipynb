{
 "cells": [
  {
   "cell_type": "code",
   "execution_count": 2,
   "metadata": {},
   "outputs": [],
   "source": [
    "import dynamiqs as dq\n",
    "import scipy as sp\n",
    "import jax\n",
    "import jax.numpy as jnp # the JAX version of numpy\n",
    "from matplotlib import pyplot as plt\n",
    "import scipy.constants\n"
   ]
  },
  {
   "cell_type": "code",
   "execution_count": 3,
   "metadata": {},
   "outputs": [],
   "source": [
    "jax.devices()\n",
    "dq.set_device('cpu')\n",
    "\n",
    "dq.set_precision('simple')"
   ]
  },
  {
   "cell_type": "code",
   "execution_count": null,
   "metadata": {},
   "outputs": [
    {
     "name": "stderr",
     "output_type": "stream",
     "text": [
      "C:\\Users\\gebha\\AppData\\Roaming\\Python\\Python313\\site-packages\\equinox\\_module.py:1096: UserWarning: A `SparseDIAQArray` has been converted to a `DenseQArray` while computing its matrix exponential.\n",
      "  return self.__func__(self.__self__, *args, **kwargs)\n"
     ]
    }
   ],
   "source": [
    "na = 20\n",
    "nb = 5\n",
    "ω_a0 = 2*jnp.pi*5.26e9\n",
    "ω_b0 = 2*jnp.pi*7.70e9\n",
    " \n",
    "φ_a = 0.06\n",
    "φ_b = 0.29\n",
    "\n",
    "h = scipy.constants.h\n",
    "\n",
    "Kb = 10\n",
    "E_J = 42.76e9* h\n",
    " \n",
    "ΔE_J = 0.47e9 * h\n",
    "T = 4\n",
    "\n",
    "t_save = jnp.linspace(0, T, 50)  # save times\n",
    "\n",
    "ω_d = 2*jnp.pi*7.623e9\n",
    "ω_p = 2*jnp.pi*2.891e9\n",
    " \n",
    "ϵ_d = -2*jnp.pi*3.815e6\n",
    "ϵ_p = 0.122\n",
    "a,b = dq.destroy(na,nb)\n",
    "\n",
    "phi_hat = φ_a * (a + dq.dag(a)) + φ_b * (b + dq.dag(b))\n",
    "H_0 = ω_a0* dq.dag(a) @ a + ω_b0* dq.dag(b) @ b \n",
    "\n",
<<<<<<< HEAD
    "H_ATS = dq.modulated(lambda t: -2* E_J*(jnp.sin(ϵ_p * jnp.cos(ω_d * t))), dq.sinm(phi_hat)) + dq.modulated(lambda t : 2 * ΔE_J * jnp.cos(ϵ_p * jnp.cos(ω_d * t)), dq.sinm(phi_hat))\n",
    "\n",
    "H_d = dq.modulated(lambda t: 2 * ϵ_d * jnp.cos(ω_d * t), (b + dq.dag(b)))\n",
    "\n",
    "H = H_0 + H_ATS + H_d"
=======
    "H_ATS = -2* E_J*(jnp.sin(ϵ_p)*sin(φ_a`  `))"
>>>>>>> 8c774a6303d388ff00a2bc9437c6fb293c2042bc
   ]
  },
  {
   "cell_type": "code",
   "execution_count": null,
   "metadata": {},
   "outputs": [
    {
     "name": "stderr",
     "output_type": "stream",
     "text": [
      "|          |   0.0% ◆ elapsed 17.64s ◆ remaining 0.00ms  "
     ]
    }
   ],
   "source": [
    "psi0 = dq.fock((na,nb), (0,0))  # coherent state\n",
    "\n",
    "res = dq.mesolve(H, [jnp.sqrt(Kb)*b], psi0, t_save)\n",
    "\n",
    "trace_a = dq.ptrace(res.states, 0,res.states.dims) # trace of a\n",
    "\n",
    "dq.plot.wigner_gif(trace_a, fps=120)"
   ]
  }
 ],
 "metadata": {
  "kernelspec": {
   "display_name": "Python 3",
   "language": "python",
   "name": "python3"
  },
  "language_info": {
   "codemirror_mode": {
    "name": "ipython",
    "version": 3
   },
   "file_extension": ".py",
   "mimetype": "text/x-python",
   "name": "python",
   "nbconvert_exporter": "python",
   "pygments_lexer": "ipython3",
   "version": "3.13.1"
  }
 },
 "nbformat": 4,
 "nbformat_minor": 2
}
