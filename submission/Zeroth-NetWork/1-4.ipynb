{
 "cells": [
  {
   "cell_type": "code",
   "execution_count": 54,
   "metadata": {},
   "outputs": [],
   "source": [
    "import dynamiqs as dq\n",
    "import jax\n",
    "import jax.numpy as jnp # the JAX version of numpy\n",
    "from matplotlib import pyplot as plt\n",
    "import scipy\n",
    "\n"
   ]
  },
  {
   "cell_type": "code",
   "execution_count": 31,
   "metadata": {},
   "outputs": [],
   "source": [
    "jax.devices()\n",
    "dq.set_device('cpu')\n",
    "\n",
    "dq.set_precision('simple')"
   ]
  },
  {
   "cell_type": "code",
   "execution_count": 47,
   "metadata": {},
   "outputs": [
    {
     "name": "stderr",
     "output_type": "stream",
     "text": [
      "|          |   0.0% ◆ elapsed 0.00ms ◆ remaining ?"
     ]
    },
    {
     "name": "stderr",
     "output_type": "stream",
     "text": [
      "|██████████| 100.0% ◆ elapsed 121.81ms ◆ remaining 0.00ms \n"
     ]
    }
   ],
   "source": [
    "#CODE for comparison -- 1.1\n",
    "na = 20\n",
    "nb = 5\n",
    "g2 = 1 #chlling\n",
    "eps = -4\n",
    "Kb = 10\n",
    "T = 3\n",
    "tsave = jnp.linspace(0, T, 50)\n",
    "\n",
    "a, b = dq.destroy(na, nb)\n",
    "\n",
    "H = g2 * dq.dag(a) @ dq.dag(a) @ b  + jnp.conj(g2) * a @ a @ dq.dag(b) + jnp.conj(eps) * b + eps * dq.dag(b)# Hamiltonian\n",
    "\n",
    "#initial state and save time\n",
    "psi0 = dq.fock((na,nb), (0,0))  # coherent state\n",
    "\n",
    "jump_ops = [jnp.sqrt(Kb)*b]\n",
    "res_2_mode = dq.mesolve(H,jump_ops, psi0, tsave)\n"
   ]
  },
  {
   "cell_type": "code",
   "execution_count": 48,
   "metadata": {},
   "outputs": [],
   "source": [
    "# parameters\n",
    "na = 20  # number of Fock states\n",
    "nb = 5 \n",
    "T = 3 # time of evolution\n",
    "omega = jnp.pi/T  # detuning2=1\n",
    "Kb = 10\n",
    "g2 = 1"
   ]
  },
  {
   "cell_type": "code",
   "execution_count": 62,
   "metadata": {},
   "outputs": [
    {
     "name": "stderr",
     "output_type": "stream",
     "text": [
      "|██████████| 100.0% ◆ elapsed 150.92ms ◆ remaining 0.00ms \n",
      "100%|██████████| 50/50 [00:01<00:00, 33.44it/s]\n"
     ]
    },
    {
     "name": "stdout",
     "output_type": "stream",
     "text": [
      "2.877551\n",
      "[-10.  -6.  -4.]\n"
     ]
    },
    {
     "name": "stderr",
     "output_type": "stream",
     "text": [
      "|██████████| 100.0% ◆ elapsed 150.94ms ◆ remaining 0.00ms \n",
      "100%|██████████| 50/50 [00:01<00:00, 35.39it/s]\n"
     ]
    },
    {
     "name": "stdout",
     "output_type": "stream",
     "text": [
      "2.8163266\n",
      "[-10.5  -6.   -4. ]\n"
     ]
    },
    {
     "name": "stderr",
     "output_type": "stream",
     "text": [
      "|██████████| 100.0% ◆ elapsed 157.16ms ◆ remaining 0.00ms \n",
      "100%|██████████| 50/50 [00:03<00:00, 14.68it/s]\n"
     ]
    },
    {
     "name": "stdout",
     "output_type": "stream",
     "text": [
      "2.877551\n",
      "[-10.   -6.3  -4. ]\n"
     ]
    },
    {
     "name": "stderr",
     "output_type": "stream",
     "text": [
      "|██████████| 100.0% ◆ elapsed 162.07ms ◆ remaining 0.00ms \n",
      "100%|██████████| 50/50 [00:01<00:00, 34.04it/s]\n"
     ]
    },
    {
     "name": "stdout",
     "output_type": "stream",
     "text": [
      "2.877551\n",
      "[-10.   -6.   -4.2]\n"
     ]
    },
    {
     "name": "stderr",
     "output_type": "stream",
     "text": [
      "|██████████| 100.0% ◆ elapsed 156.37ms ◆ remaining 0.00ms \n",
      "100%|██████████| 50/50 [00:01<00:00, 29.38it/s]\n",
      "|██████████| 100.0% ◆ elapsed 154.90ms ◆ remaining 0.00ms \n",
      "100%|██████████| 50/50 [00:01<00:00, 34.45it/s]\n"
     ]
    },
    {
     "name": "stdout",
     "output_type": "stream",
     "text": [
      "2.877551\n",
      "[-10.08333333  -6.05        -4.1       ]\n"
     ]
    },
    {
     "name": "stderr",
     "output_type": "stream",
     "text": [
      "|██████████| 100.0% ◆ elapsed 153.62ms ◆ remaining 0.00ms \n",
      "100%|██████████| 50/50 [00:01<00:00, 35.05it/s]\n"
     ]
    },
    {
     "name": "stdout",
     "output_type": "stream",
     "text": [
      "2.877551\n",
      "[-10.25  -6.    -4.  ]\n"
     ]
    },
    {
     "name": "stderr",
     "output_type": "stream",
     "text": [
      "|██████████| 100.0% ◆ elapsed 156.30ms ◆ remaining 0.00ms \n",
      "100%|██████████| 50/50 [00:01<00:00, 34.53it/s]\n"
     ]
    },
    {
     "name": "stdout",
     "output_type": "stream",
     "text": [
      "2.877551\n",
      "[-10.25  -6.15  -4.  ]\n"
     ]
    },
    {
     "name": "stderr",
     "output_type": "stream",
     "text": [
      "|██████████| 100.0% ◆ elapsed 156.46ms ◆ remaining 0.00ms \n",
      "100%|██████████| 50/50 [00:01<00:00, 28.47it/s]\n"
     ]
    },
    {
     "name": "stdout",
     "output_type": "stream",
     "text": [
      "2.877551\n",
      "[-10.25  -6.    -4.1 ]\n"
     ]
    },
    {
     "name": "stderr",
     "output_type": "stream",
     "text": [
      "|██████████| 100.0% ◆ elapsed 156.52ms ◆ remaining 0.00ms \n",
      "100%|██████████| 50/50 [00:01<00:00, 35.05it/s]\n"
     ]
    },
    {
     "name": "stdout",
     "output_type": "stream",
     "text": [
      "2.9387755\n",
      "[-10.41666667  -6.1         -3.9       ]\n"
     ]
    },
    {
     "name": "stderr",
     "output_type": "stream",
     "text": [
      "|██████████| 100.0% ◆ elapsed 154.46ms ◆ remaining 0.00ms \n",
      "100%|██████████| 50/50 [00:01<00:00, 34.87it/s]\n"
     ]
    },
    {
     "name": "stdout",
     "output_type": "stream",
     "text": [
      "2.877551\n",
      "[-10.29166667  -6.025       -4.05      ]\n"
     ]
    },
    {
     "name": "stderr",
     "output_type": "stream",
     "text": [
      "|██████████| 100.0% ◆ elapsed 155.12ms ◆ remaining 0.00ms \n",
      "100%|██████████| 50/50 [00:01<00:00, 35.11it/s]\n"
     ]
    },
    {
     "name": "stdout",
     "output_type": "stream",
     "text": [
      "2.8163266\n",
      "[-10.375  -6.     -4.   ]\n"
     ]
    },
    {
     "name": "stderr",
     "output_type": "stream",
     "text": [
      "|██████████| 100.0% ◆ elapsed 156.21ms ◆ remaining 0.00ms \n",
      "100%|██████████| 50/50 [00:01<00:00, 26.95it/s]\n"
     ]
    },
    {
     "name": "stdout",
     "output_type": "stream",
     "text": [
      "2.8163266\n",
      "[-10.375  -6.075  -4.   ]\n"
     ]
    },
    {
     "name": "stderr",
     "output_type": "stream",
     "text": [
      "|██████████| 100.0% ◆ elapsed 155.62ms ◆ remaining 0.00ms \n",
      "100%|██████████| 50/50 [00:01<00:00, 34.66it/s]\n"
     ]
    },
    {
     "name": "stdout",
     "output_type": "stream",
     "text": [
      "2.8163266\n",
      "[-10.375  -6.     -4.05 ]\n"
     ]
    },
    {
     "name": "stderr",
     "output_type": "stream",
     "text": [
      "|██████████| 100.0% ◆ elapsed 149.11ms ◆ remaining 0.00ms \n",
      "100%|██████████| 50/50 [00:01<00:00, 35.07it/s]\n"
     ]
    },
    {
     "name": "stdout",
     "output_type": "stream",
     "text": [
      "2.877551\n",
      "[-10.45833333  -6.05        -3.95      ]\n"
     ]
    },
    {
     "name": "stderr",
     "output_type": "stream",
     "text": [
      "|██████████| 100.0% ◆ elapsed 154.93ms ◆ remaining 0.00ms \n",
      "100%|██████████| 50/50 [00:01<00:00, 34.79it/s]\n"
     ]
    },
    {
     "name": "stdout",
     "output_type": "stream",
     "text": [
      "2.8163266\n",
      "[-10.39583333  -6.0125      -4.025     ]\n"
     ]
    },
    {
     "name": "stderr",
     "output_type": "stream",
     "text": [
      "|██████████| 100.0% ◆ elapsed 137.53ms ◆ remaining 0.00ms \n",
      "100%|██████████| 50/50 [00:01<00:00, 35.36it/s]\n"
     ]
    },
    {
     "name": "stdout",
     "output_type": "stream",
     "text": [
      "2.8163266\n",
      "[-10.4375  -6.      -4.    ]\n"
     ]
    },
    {
     "name": "stderr",
     "output_type": "stream",
     "text": [
      "|██████████| 100.0% ◆ elapsed 150.01ms ◆ remaining 0.00ms \n",
      "100%|██████████| 50/50 [00:01<00:00, 26.17it/s]\n"
     ]
    },
    {
     "name": "stdout",
     "output_type": "stream",
     "text": [
      "2.8163266\n",
      "[-10.4375  -6.0375  -4.    ]\n"
     ]
    },
    {
     "name": "stderr",
     "output_type": "stream",
     "text": [
      "|██████████| 100.0% ◆ elapsed 148.68ms ◆ remaining 0.00ms \n",
      "100%|██████████| 50/50 [00:01<00:00, 35.55it/s]\n"
     ]
    },
    {
     "name": "stdout",
     "output_type": "stream",
     "text": [
      "2.8163266\n",
      "[-10.4375  -6.      -4.025 ]\n"
     ]
    },
    {
     "name": "stderr",
     "output_type": "stream",
     "text": [
      "|██████████| 100.0% ◆ elapsed 151.50ms ◆ remaining 0.00ms \n",
      "100%|██████████| 50/50 [00:01<00:00, 35.39it/s]\n"
     ]
    },
    {
     "name": "stdout",
     "output_type": "stream",
     "text": [
      "2.8163266\n",
      "[-10.47916667  -6.025       -3.975     ]\n"
     ]
    },
    {
     "name": "stderr",
     "output_type": "stream",
     "text": [
      "|██████████| 100.0% ◆ elapsed 143.57ms ◆ remaining 0.00ms \n",
      "100%|██████████| 50/50 [00:01<00:00, 35.35it/s]\n"
     ]
    },
    {
     "name": "stdout",
     "output_type": "stream",
     "text": [
      "2.8163266\n",
      "[-10.44791667  -6.00625     -4.0125    ]\n"
     ]
    },
    {
     "name": "stderr",
     "output_type": "stream",
     "text": [
      "|██████████| 100.0% ◆ elapsed 151.87ms ◆ remaining 0.00ms \n",
      "100%|██████████| 50/50 [00:01<00:00, 35.36it/s]\n"
     ]
    },
    {
     "name": "stdout",
     "output_type": "stream",
     "text": [
      "2.8163266\n",
      "[-10.46875  -6.       -4.     ]\n"
     ]
    },
    {
     "name": "stderr",
     "output_type": "stream",
     "text": [
      "|██████████| 100.0% ◆ elapsed 146.16ms ◆ remaining 0.00ms \n",
      "100%|██████████| 50/50 [00:01<00:00, 25.17it/s]\n"
     ]
    },
    {
     "name": "stdout",
     "output_type": "stream",
     "text": [
      "2.8163266\n",
      "[-10.46875  -6.01875  -4.     ]\n"
     ]
    },
    {
     "name": "stderr",
     "output_type": "stream",
     "text": [
      "|██████████| 100.0% ◆ elapsed 151.75ms ◆ remaining 0.00ms \n",
      "100%|██████████| 50/50 [00:01<00:00, 35.10it/s]\n"
     ]
    },
    {
     "name": "stdout",
     "output_type": "stream",
     "text": [
      "2.8163266\n",
      "[-10.46875  -6.       -4.0125 ]\n"
     ]
    },
    {
     "name": "stderr",
     "output_type": "stream",
     "text": [
      "|██████████| 100.0% ◆ elapsed 150.99ms ◆ remaining 0.00ms \n",
      "100%|██████████| 50/50 [00:01<00:00, 35.41it/s]\n"
     ]
    },
    {
     "name": "stdout",
     "output_type": "stream",
     "text": [
      "2.8163266\n",
      "[-10.48958333  -6.0125      -3.9875    ]\n"
     ]
    },
    {
     "name": "stderr",
     "output_type": "stream",
     "text": [
      "|██████████| 100.0% ◆ elapsed 151.15ms ◆ remaining 0.00ms \n",
      "100%|██████████| 50/50 [00:01<00:00, 35.17it/s]\n"
     ]
    },
    {
     "name": "stdout",
     "output_type": "stream",
     "text": [
      "2.8163266\n",
      "[-10.47395833  -6.003125    -4.00625   ]\n"
     ]
    },
    {
     "name": "stderr",
     "output_type": "stream",
     "text": [
      "|██████████| 100.0% ◆ elapsed 148.22ms ◆ remaining 0.00ms \n",
      "100%|██████████| 50/50 [00:01<00:00, 35.41it/s]\n"
     ]
    },
    {
     "name": "stdout",
     "output_type": "stream",
     "text": [
      "2.8163266\n",
      "[-10.484375  -6.        -4.      ]\n"
     ]
    },
    {
     "name": "stderr",
     "output_type": "stream",
     "text": [
      "|██████████| 100.0% ◆ elapsed 143.76ms ◆ remaining 0.00ms \n",
      "100%|██████████| 50/50 [00:01<00:00, 35.59it/s]\n"
     ]
    },
    {
     "name": "stdout",
     "output_type": "stream",
     "text": [
      "2.8163266\n",
      "[-10.484375  -6.009375  -4.      ]\n"
     ]
    },
    {
     "name": "stderr",
     "output_type": "stream",
     "text": [
      "|██████████| 100.0% ◆ elapsed 148.84ms ◆ remaining 0.00ms \n",
      "100%|██████████| 50/50 [00:01<00:00, 35.24it/s]\n"
     ]
    },
    {
     "name": "stdout",
     "output_type": "stream",
     "text": [
      "2.8163266\n",
      "[-10.484375  -6.        -4.00625 ]\n"
     ]
    },
    {
     "name": "stderr",
     "output_type": "stream",
     "text": [
      "|██████████| 100.0% ◆ elapsed 147.80ms ◆ remaining 0.00ms \n",
      "100%|██████████| 50/50 [00:01<00:00, 35.19it/s]\n"
     ]
    },
    {
     "name": "stdout",
     "output_type": "stream",
     "text": [
      "2.8163266\n",
      "[-10.49479167  -6.00625     -3.99375   ]\n"
     ]
    },
    {
     "name": "stderr",
     "output_type": "stream",
     "text": [
      "|██████████| 100.0% ◆ elapsed 148.63ms ◆ remaining 0.00ms \n",
      "100%|██████████| 50/50 [00:02<00:00, 23.78it/s]\n"
     ]
    },
    {
     "name": "stdout",
     "output_type": "stream",
     "text": [
      "2.8163266\n",
      "[-10.48697917  -6.0015625   -4.003125  ]\n"
     ]
    },
    {
     "name": "stderr",
     "output_type": "stream",
     "text": [
      "|██████████| 100.0% ◆ elapsed 157.29ms ◆ remaining 0.00ms \n",
      "100%|██████████| 50/50 [00:01<00:00, 35.27it/s]\n"
     ]
    },
    {
     "name": "stdout",
     "output_type": "stream",
     "text": [
      "2.8163266\n",
      "[-10.4921875  -6.         -4.       ]\n"
     ]
    },
    {
     "name": "stderr",
     "output_type": "stream",
     "text": [
      "|██████████| 100.0% ◆ elapsed 141.12ms ◆ remaining 0.00ms \n",
      "100%|██████████| 50/50 [00:01<00:00, 35.70it/s]\n"
     ]
    },
    {
     "name": "stdout",
     "output_type": "stream",
     "text": [
      "2.8163266\n",
      "[-10.4921875  -6.0046875  -4.       ]\n"
     ]
    },
    {
     "name": "stderr",
     "output_type": "stream",
     "text": [
      "|██████████| 100.0% ◆ elapsed 150.68ms ◆ remaining 0.00ms \n",
      "100%|██████████| 50/50 [00:01<00:00, 35.33it/s]\n"
     ]
    },
    {
     "name": "stdout",
     "output_type": "stream",
     "text": [
      "2.8163266\n",
      "[-10.4921875  -6.         -4.003125 ]\n",
      "Optimization terminated successfully.\n",
      "         Current function value: 2.816327\n",
      "         Iterations: 7\n",
      "         Function evaluations: 34\n",
      "[-10.5  -6.   -4. ]\n"
     ]
    }
   ],
   "source": [
    "def optimize(values):\n",
    "    # operators\n",
    "    a, b = dq.destroy(na, nb)\n",
    "\n",
    "    H_0 = g2 * dq.dag(a) @ dq.dag(a) @ b  + jnp.conj(g2) * a @ a @ dq.dag(b) \n",
    "\n",
    "    times = [0.0, 1, 2.0, 3.0]\n",
    "    qarray = b + dq.dag(b)\n",
    "    H_d = dq.pwc(times, values, qarray)\n",
    "\n",
    "    H = H_0 + H_d\n",
    "\n",
    "    # initial state and save time\n",
    "    psi0 = dq.fock((na,nb), (0,0))  # coherent state\n",
    "    t_save = jnp.linspace(0, T, 50)  # save times\n",
    "\n",
    "    jump_ops = [jnp.sqrt(Kb)*b]\n",
    "    res = dq.mesolve(H,jump_ops, psi0, t_save)\n",
    "\n",
    "    trace_a = dq.ptrace(res.states, 0,res.states.dims) # trace of a\n",
    "\n",
    "    dq.plot.wigner_gif(trace_a, fps=120)\n",
    "    trace_a_2mode = dq.ptrace(res_2_mode.states, 0,res_2_mode.states.dims) # trace of a\n",
    "    trace_a = dq.ptrace(res.states, 0,res.states.dims) # trace of a\n",
    "    fidelity_plot = dq.fidelity(trace_a, trace_a_2mode)\n",
    "    for t in range(50):\n",
    "        if tsave[t]>1 and fidelity_plot[t]>0.995:\n",
    "            print(tsave[t])\n",
    "            print(values)\n",
    "            return(tsave[t])\n",
    "\n",
    "    # dq.plot.wigner_gif(res.states)\n",
    "    return(3)\n",
    "values = [-10.0, -6.0, -4.0]\n",
    "xopt = scipy.optimize.fmin(optimize, values, xtol=1e-2, disp=True)\n",
    "print(xopt)"
   ]
  },
  {
   "cell_type": "code",
   "execution_count": 51,
   "metadata": {},
   "outputs": [
    {
     "name": "stdout",
     "output_type": "stream",
     "text": [
      "(50,)\n"
     ]
    },
    {
     "data": {
      "text/plain": [
       "[<matplotlib.lines.Line2D at 0x2e9f00da0>]"
      ]
     },
     "execution_count": 51,
     "metadata": {},
     "output_type": "execute_result"
    },
    {
     "data": {
      "image/png": "[encoded data removed]",
      "text/plain": [
       "<Figure size 640x480 with 1 Axes>"
      ]
     },
     "metadata": {},
     "output_type": "display_data"
    }
   ],
   "source": []
  }
 ],
 "metadata": {
  "kernelspec": {
   "display_name": "base",
   "language": "python",
   "name": "python3"
  },
  "language_info": {
   "codemirror_mode": {
    "name": "ipython",
    "version": 3
   },
   "file_extension": ".py",
   "mimetype": "text/x-python",
   "name": "python",
   "nbconvert_exporter": "python",
   "pygments_lexer": "ipython3",
   "version": "3.12.8"
  }
 },
 "nbformat": 4,
 "nbformat_minor": 2
}
